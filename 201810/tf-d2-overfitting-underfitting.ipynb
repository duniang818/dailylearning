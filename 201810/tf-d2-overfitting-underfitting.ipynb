{
 "cells": [
  {
   "cell_type": "code",
   "execution_count": 1,
   "metadata": {
    "collapsed": true
   },
   "outputs": [
    {
     "name": "stderr",
     "output_type": "stream",
     "text": [
      "C:\\Users\\Coco\\Anaconda3\\lib\\site-packages\\h5py\\__init__.py:36: FutureWarning: Conversion of the second argument of issubdtype from `float` to `np.floating` is deprecated. In future, it will be treated as `np.float64 == np.dtype(float).type`.\n  from ._conv import register_converters as _register_converters\n"
     ]
    },
    {
     "name": "stdout",
     "output_type": "stream",
     "text": [
      "1.10.0\n"
     ]
    }
   ],
   "source": [
    "import tensorflow as tf\n",
    "from tensorflow import keras\n",
    "\n",
    "import numpy as np\n",
    "import matplotlib.pyplot as plt\n",
    "\n",
    "print(tf.__version__)"
   ]
  },
  {
   "cell_type": "code",
   "execution_count": 25,
   "metadata": {},
   "outputs": [],
   "source": [
    "NUM_WORDS = 10000\n",
    "# load_data(num_words), 表示词索引最大值，这里表示前10000-1的索引\n",
    "# 此数据集是经过预处理后的，每一条评论表示词索引的一个序列，安装词频率排序后的索引\n",
    "(train_data, train_labels), (test_data, test_labels) = keras.datasets.imdb.load_data(num_words=NUM_WORDS)\n",
    "def multi_hot_sequences(sequences, dimension):\n",
    "    # Create an all-zero matrix of shape (len(sequences), dimension)\n",
    "    # np.zero(shape), len() * dimension的一个矩阵, 数据类型是float\n",
    "    # len(sequences)表示评论的条数\n",
    "    results = np.zeros((len(sequences), dimension))\n",
    "    for i, word_indices in enumerate(sequences):\n",
    "        results[i, word_indices] = 1.0  # set specific indices of results[i] to 1s\n",
    "    return results\n",
    "\n",
    "\n",
    "train_data = multi_hot_sequences(train_data, dimension=NUM_WORDS)\n",
    "test_data = multi_hot_sequences(test_data, dimension=NUM_WORDS)"
   ]
  },
  {
   "cell_type": "code",
   "execution_count": 12,
   "metadata": {},
   "outputs": [],
   "source": [
    "# (train_data, train_labels), (test_data, test_labels) = keras.datasets.imdb.load_data(num_words=5)"
   ]
  },
  {
   "cell_type": "code",
   "execution_count": 24,
   "metadata": {},
   "outputs": [
    {
     "name": "stdout",
     "output_type": "stream",
     "text": [
      "r:[[0. 0. 0. 0. 0. 0. 0. 0. 0. 0.]]\ni:0, word:[array([2, 4, 0, 6, 2, 4, 1, 9, 5, 8])]\nr 2:[[1. 1. 1. 1. 1. 1. 1. 1. 1. 1.]]\nr:[[0. 0. 0. 0. 0. 0. 0. 0. 0. 0.]]\ni:1, word:[array([2, 1, 1, 0, 3, 3, 1, 2, 3, 0])]\nr 2:[[1. 1. 1. 1. 1. 1. 1. 1. 1. 1.]]\n"
     ]
    }
   ],
   "source": [
    "# r = np.zeros((2, 10))\n",
    "# for i, word_indices in enumerate([[np.random.randint(10, size=10)], [np.random.randint(5, size=10)]]):\n",
    "#     print(\"r:{}\".format(r[i, word_indices]))\n",
    "#     r[i, word_indices] = 1\n",
    "#     print('i:{}, word:{}'.format(i, word_indices))\n",
    "#     print((\"r 2:{}\".format(r[i, word_indices])))\n",
    "    "
   ]
  },
  {
   "cell_type": "code",
   "execution_count": 26,
   "metadata": {},
   "outputs": [
    {
     "data": {
      "text/plain": [
       "[<matplotlib.lines.Line2D at 0x2de94c95fd0>]"
      ]
     },
     "execution_count": 26,
     "metadata": {},
     "output_type": "execute_result"
    },
    {
     "data": {
      "image/png": "[encoded data removed]",
      "text/plain": [
       "<Figure size 432x288 with 1 Axes>"
      ]
     },
     "metadata": {},
     "output_type": "display_data"
    }
   ],
   "source": [
    "plt.plot(train_data[0])\n",
    "plt.plot(train_data[1])\n",
    "# x轴表示词索引\n",
    "# y轴表示编码为1的词索引"
   ]
  },
  {
   "cell_type": "code",
   "execution_count": 28,
   "metadata": {},
   "outputs": [
    {
     "name": "stdout",
     "output_type": "stream",
     "text": [
      "_________________________________________________________________\nLayer (type)                 Output Shape              Param #   \n=================================================================\ndense_3 (Dense)              (None, 16)                160016    \n_________________________________________________________________\ndense_4 (Dense)              (None, 16)                272       \n_________________________________________________________________\ndense_5 (Dense)              (None, 1)                 17        \n=================================================================\nTotal params: 160,305\nTrainable params: 160,305\nNon-trainable params: 0\n_________________________________________________________________\n"
     ]
    }
   ],
   "source": [
    "# create a baseline model\n",
    "baseline_model = keras.Sequential([keras.layers.Dense(16, activation=tf.nn.relu,\n",
    "                                                input_shape=(NUM_WORDS,)),\n",
    "                             keras.layers.Dense(16, activation=tf.nn.relu),\n",
    "                             keras.layers.Dense(1, activation=tf.nn.sigmoid)])\n",
    "baseline_model.compile(optimizer='adam',\n",
    "                       loss='binary_crossentropy',\n",
    "                       metrics=['accuracy', 'binary_crossentropy'])\n",
    "baseline_model.summary()"
   ]
  },
  {
   "cell_type": "code",
   "execution_count": 29,
   "metadata": {},
   "outputs": [
    {
     "name": "stdout",
     "output_type": "stream",
     "text": [
      "Train on 25000 samples, validate on 25000 samples\nEpoch 1/20\n"
     ]
    },
    {
     "name": "stdout",
     "output_type": "stream",
     "text": [
      " - 7s - loss: 0.4665 - acc: 0.8166 - binary_crossentropy: 0.4665 - val_loss: 0.3326 - val_acc: 0.8762 - val_binary_crossentropy: 0.3326\n"
     ]
    },
    {
     "name": "stdout",
     "output_type": "stream",
     "text": [
      "Epoch 2/20\n"
     ]
    },
    {
     "name": "stdout",
     "output_type": "stream",
     "text": [
      " - 7s - loss: 0.2461 - acc: 0.9120 - binary_crossentropy: 0.2461 - val_loss: 0.2857 - val_acc: 0.8873 - val_binary_crossentropy: 0.2857\n"
     ]
    },
    {
     "name": "stdout",
     "output_type": "stream",
     "text": [
      "Epoch 3/20\n"
     ]
    },
    {
     "name": "stdout",
     "output_type": "stream",
     "text": [
      " - 4s - loss: 0.1826 - acc: 0.9367 - binary_crossentropy: 0.1826 - val_loss: 0.2896 - val_acc: 0.8848 - val_binary_crossentropy: 0.2896\n"
     ]
    },
    {
     "name": "stdout",
     "output_type": "stream",
     "text": [
      "Epoch 4/20\n"
     ]
    },
    {
     "name": "stdout",
     "output_type": "stream",
     "text": [
      " - 4s - loss: 0.1470 - acc: 0.9498 - binary_crossentropy: 0.1470 - val_loss: 0.3143 - val_acc: 0.8785 - val_binary_crossentropy: 0.3143\n"
     ]
    },
    {
     "name": "stdout",
     "output_type": "stream",
     "text": [
      "Epoch 5/20\n"
     ]
    },
    {
     "name": "stdout",
     "output_type": "stream",
     "text": [
      " - 4s - loss: 0.1226 - acc: 0.9591 - binary_crossentropy: 0.1226 - val_loss: 0.3390 - val_acc: 0.8739 - val_binary_crossentropy: 0.3390\n"
     ]
    },
    {
     "name": "stdout",
     "output_type": "stream",
     "text": [
      "Epoch 6/20\n"
     ]
    },
    {
     "name": "stdout",
     "output_type": "stream",
     "text": [
      " - 4s - loss: 0.1024 - acc: 0.9684 - binary_crossentropy: 0.1024 - val_loss: 0.3689 - val_acc: 0.8697 - val_binary_crossentropy: 0.3689\n"
     ]
    },
    {
     "name": "stdout",
     "output_type": "stream",
     "text": [
      "Epoch 7/20\n"
     ]
    },
    {
     "name": "stdout",
     "output_type": "stream",
     "text": [
      " - 4s - loss: 0.0859 - acc: 0.9748 - binary_crossentropy: 0.0859 - val_loss: 0.4192 - val_acc: 0.8616 - val_binary_crossentropy: 0.4192\n"
     ]
    },
    {
     "name": "stdout",
     "output_type": "stream",
     "text": [
      "Epoch 8/20\n"
     ]
    },
    {
     "name": "stdout",
     "output_type": "stream",
     "text": [
      " - 4s - loss: 0.0716 - acc: 0.9797 - binary_crossentropy: 0.0716 - val_loss: 0.4462 - val_acc: 0.8629 - val_binary_crossentropy: 0.4462\n"
     ]
    },
    {
     "name": "stdout",
     "output_type": "stream",
     "text": [
      "Epoch 9/20\n"
     ]
    },
    {
     "name": "stdout",
     "output_type": "stream",
     "text": [
      " - 4s - loss: 0.0574 - acc: 0.9857 - binary_crossentropy: 0.0574 - val_loss: 0.4867 - val_acc: 0.8600 - val_binary_crossentropy: 0.4867\n"
     ]
    },
    {
     "name": "stdout",
     "output_type": "stream",
     "text": [
      "Epoch 10/20\n"
     ]
    },
    {
     "name": "stdout",
     "output_type": "stream",
     "text": [
      " - 4s - loss: 0.0443 - acc: 0.9907 - binary_crossentropy: 0.0443 - val_loss: 0.5324 - val_acc: 0.8566 - val_binary_crossentropy: 0.5324\n"
     ]
    },
    {
     "name": "stdout",
     "output_type": "stream",
     "text": [
      "Epoch 11/20\n"
     ]
    },
    {
     "name": "stdout",
     "output_type": "stream",
     "text": [
      " - 4s - loss: 0.0335 - acc: 0.9941 - binary_crossentropy: 0.0335 - val_loss: 0.5717 - val_acc: 0.8554 - val_binary_crossentropy: 0.5717\n"
     ]
    },
    {
     "name": "stdout",
     "output_type": "stream",
     "text": [
      "Epoch 12/20\n"
     ]
    },
    {
     "name": "stdout",
     "output_type": "stream",
     "text": [
      " - 4s - loss: 0.0244 - acc: 0.9965 - binary_crossentropy: 0.0244 - val_loss: 0.6135 - val_acc: 0.8540 - val_binary_crossentropy: 0.6135\n"
     ]
    },
    {
     "name": "stdout",
     "output_type": "stream",
     "text": [
      "Epoch 13/20\n"
     ]
    },
    {
     "name": "stdout",
     "output_type": "stream",
     "text": [
      " - 4s - loss: 0.0177 - acc: 0.9981 - binary_crossentropy: 0.0177 - val_loss: 0.6517 - val_acc: 0.8530 - val_binary_crossentropy: 0.6517\n"
     ]
    },
    {
     "name": "stdout",
     "output_type": "stream",
     "text": [
      "Epoch 14/20\n"
     ]
    },
    {
     "name": "stdout",
     "output_type": "stream",
     "text": [
      " - 4s - loss: 0.0127 - acc: 0.9993 - binary_crossentropy: 0.0127 - val_loss: 0.6947 - val_acc: 0.8526 - val_binary_crossentropy: 0.6947\n"
     ]
    },
    {
     "name": "stdout",
     "output_type": "stream",
     "text": [
      "Epoch 15/20\n"
     ]
    },
    {
     "name": "stdout",
     "output_type": "stream",
     "text": [
      " - 4s - loss: 0.0089 - acc: 0.9998 - binary_crossentropy: 0.0089 - val_loss: 0.7407 - val_acc: 0.8518 - val_binary_crossentropy: 0.7407\n"
     ]
    },
    {
     "name": "stdout",
     "output_type": "stream",
     "text": [
      "Epoch 16/20\n"
     ]
    },
    {
     "name": "stdout",
     "output_type": "stream",
     "text": [
      " - 4s - loss: 0.0064 - acc: 0.9998 - binary_crossentropy: 0.0064 - val_loss: 0.7840 - val_acc: 0.8515 - val_binary_crossentropy: 0.7840\n"
     ]
    },
    {
     "name": "stdout",
     "output_type": "stream",
     "text": [
      "Epoch 17/20\n"
     ]
    },
    {
     "name": "stdout",
     "output_type": "stream",
     "text": [
      " - 4s - loss: 0.0045 - acc: 1.0000 - binary_crossentropy: 0.0045 - val_loss: 0.8182 - val_acc: 0.8520 - val_binary_crossentropy: 0.8182\n"
     ]
    },
    {
     "name": "stdout",
     "output_type": "stream",
     "text": [
      "Epoch 18/20\n"
     ]
    },
    {
     "name": "stdout",
     "output_type": "stream",
     "text": [
      " - 4s - loss: 0.0034 - acc: 1.0000 - binary_crossentropy: 0.0034 - val_loss: 0.8542 - val_acc: 0.8516 - val_binary_crossentropy: 0.8542\n"
     ]
    },
    {
     "name": "stdout",
     "output_type": "stream",
     "text": [
      "Epoch 19/20\n"
     ]
    },
    {
     "name": "stdout",
     "output_type": "stream",
     "text": [
      " - 4s - loss: 0.0027 - acc: 1.0000 - binary_crossentropy: 0.0027 - val_loss: 0.8804 - val_acc: 0.8518 - val_binary_crossentropy: 0.8804\n"
     ]
    },
    {
     "name": "stdout",
     "output_type": "stream",
     "text": [
      "Epoch 20/20\n"
     ]
    },
    {
     "name": "stdout",
     "output_type": "stream",
     "text": [
      " - 4s - loss: 0.0021 - acc: 1.0000 - binary_crossentropy: 0.0021 - val_loss: 0.9104 - val_acc: 0.8514 - val_binary_crossentropy: 0.9104\n"
     ]
    }
   ],
   "source": [
    "baseline_history = baseline_model.fit(train_data,\n",
    "                                      train_labels,\n",
    "                                      epochs=20,\n",
    "                                      batch_size=512,\n",
    "                                      validation_data=(test_data, test_labels),\n",
    "                                      verbose=2)"
   ]
  },
  {
   "cell_type": "code",
   "execution_count": 30,
   "metadata": {},
   "outputs": [
    {
     "name": "stdout",
     "output_type": "stream",
     "text": [
      "_________________________________________________________________\nLayer (type)                 Output Shape              Param #   \n=================================================================\ndense_6 (Dense)              (None, 4)                 40004     \n_________________________________________________________________\ndense_7 (Dense)              (None, 4)                 20        \n_________________________________________________________________\ndense_8 (Dense)              (None, 1)                 5         \n=================================================================\nTotal params: 40,029\nTrainable params: 40,029\nNon-trainable params: 0\n_________________________________________________________________\n"
     ]
    }
   ],
   "source": [
    "# create a smaller model\n",
    "smaller_model = keras.Sequential([keras.layers.Dense(4, activation=tf.nn.relu, input_shape=(NUM_WORDS,)),\n",
    "                                  keras.layers.Dense(4, activation=tf.nn.relu),\n",
    "                                  keras.layers.Dense(1, activation=tf.nn.sigmoid)])\n",
    "smaller_model.compile(optimizer='adam',\n",
    "                loss='binary_crossentropy',\n",
    "                metrics=['accuracy', 'binary_crossentropy'])\n",
    "\n",
    "smaller_model.summary()"
   ]
  },
  {
   "cell_type": "code",
   "execution_count": 31,
   "metadata": {},
   "outputs": [
    {
     "name": "stdout",
     "output_type": "stream",
     "text": [
      "Train on 25000 samples, validate on 25000 samples\nEpoch 1/20\n"
     ]
    },
    {
     "name": "stdout",
     "output_type": "stream",
     "text": [
      " - 5s - loss: 0.5615 - acc: 0.7622 - binary_crossentropy: 0.5615 - val_loss: 0.4507 - val_acc: 0.8532 - val_binary_crossentropy: 0.4507\n"
     ]
    },
    {
     "name": "stdout",
     "output_type": "stream",
     "text": [
      "Epoch 2/20\n"
     ]
    },
    {
     "name": "stdout",
     "output_type": "stream",
     "text": [
      " - 4s - loss: 0.3634 - acc: 0.8862 - binary_crossentropy: 0.3634 - val_loss: 0.3510 - val_acc: 0.8774 - val_binary_crossentropy: 0.3510\n"
     ]
    },
    {
     "name": "stdout",
     "output_type": "stream",
     "text": [
      "Epoch 3/20\n"
     ]
    },
    {
     "name": "stdout",
     "output_type": "stream",
     "text": [
      " - 4s - loss: 0.2793 - acc: 0.9078 - binary_crossentropy: 0.2793 - val_loss: 0.3094 - val_acc: 0.8856 - val_binary_crossentropy: 0.3094\n"
     ]
    },
    {
     "name": "stdout",
     "output_type": "stream",
     "text": [
      "Epoch 4/20\n"
     ]
    },
    {
     "name": "stdout",
     "output_type": "stream",
     "text": [
      " - 4s - loss: 0.2324 - acc: 0.9235 - binary_crossentropy: 0.2324 - val_loss: 0.2924 - val_acc: 0.8867 - val_binary_crossentropy: 0.2924\n"
     ]
    },
    {
     "name": "stdout",
     "output_type": "stream",
     "text": [
      "Epoch 5/20\n"
     ]
    },
    {
     "name": "stdout",
     "output_type": "stream",
     "text": [
      " - 4s - loss: 0.2015 - acc: 0.9340 - binary_crossentropy: 0.2015 - val_loss: 0.2870 - val_acc: 0.8854 - val_binary_crossentropy: 0.2870\n"
     ]
    },
    {
     "name": "stdout",
     "output_type": "stream",
     "text": [
      "Epoch 6/20\n"
     ]
    },
    {
     "name": "stdout",
     "output_type": "stream",
     "text": [
      " - 4s - loss: 0.1783 - acc: 0.9419 - binary_crossentropy: 0.1783 - val_loss: 0.2846 - val_acc: 0.8866 - val_binary_crossentropy: 0.2846\n"
     ]
    },
    {
     "name": "stdout",
     "output_type": "stream",
     "text": [
      "Epoch 7/20\n"
     ]
    },
    {
     "name": "stdout",
     "output_type": "stream",
     "text": [
      " - 4s - loss: 0.1599 - acc: 0.9491 - binary_crossentropy: 0.1599 - val_loss: 0.2883 - val_acc: 0.8847 - val_binary_crossentropy: 0.2883\n"
     ]
    },
    {
     "name": "stdout",
     "output_type": "stream",
     "text": [
      "Epoch 8/20\n"
     ]
    },
    {
     "name": "stdout",
     "output_type": "stream",
     "text": [
      " - 4s - loss: 0.1448 - acc: 0.9540 - binary_crossentropy: 0.1448 - val_loss: 0.2953 - val_acc: 0.8834 - val_binary_crossentropy: 0.2953\n"
     ]
    },
    {
     "name": "stdout",
     "output_type": "stream",
     "text": [
      "Epoch 9/20\n"
     ]
    },
    {
     "name": "stdout",
     "output_type": "stream",
     "text": [
      " - 4s - loss: 0.1326 - acc: 0.9574 - binary_crossentropy: 0.1326 - val_loss: 0.3040 - val_acc: 0.8814 - val_binary_crossentropy: 0.3040\n"
     ]
    },
    {
     "name": "stdout",
     "output_type": "stream",
     "text": [
      "Epoch 10/20\n"
     ]
    },
    {
     "name": "stdout",
     "output_type": "stream",
     "text": [
      " - 4s - loss: 0.1209 - acc: 0.9627 - binary_crossentropy: 0.1209 - val_loss: 0.3170 - val_acc: 0.8774 - val_binary_crossentropy: 0.3170\n"
     ]
    },
    {
     "name": "stdout",
     "output_type": "stream",
     "text": [
      "Epoch 11/20\n"
     ]
    },
    {
     "name": "stdout",
     "output_type": "stream",
     "text": [
      " - 4s - loss: 0.1112 - acc: 0.9666 - binary_crossentropy: 0.1112 - val_loss: 0.3262 - val_acc: 0.8773 - val_binary_crossentropy: 0.3262\n"
     ]
    },
    {
     "name": "stdout",
     "output_type": "stream",
     "text": [
      "Epoch 12/20\n"
     ]
    },
    {
     "name": "stdout",
     "output_type": "stream",
     "text": [
      " - 4s - loss: 0.1020 - acc: 0.9697 - binary_crossentropy: 0.1020 - val_loss: 0.3421 - val_acc: 0.8738 - val_binary_crossentropy: 0.3421\n"
     ]
    },
    {
     "name": "stdout",
     "output_type": "stream",
     "text": [
      "Epoch 13/20\n"
     ]
    },
    {
     "name": "stdout",
     "output_type": "stream",
     "text": [
      " - 4s - loss: 0.0938 - acc: 0.9730 - binary_crossentropy: 0.0938 - val_loss: 0.3528 - val_acc: 0.8724 - val_binary_crossentropy: 0.3528\n"
     ]
    },
    {
     "name": "stdout",
     "output_type": "stream",
     "text": [
      "Epoch 14/20\n"
     ]
    },
    {
     "name": "stdout",
     "output_type": "stream",
     "text": [
      " - 4s - loss: 0.0867 - acc: 0.9758 - binary_crossentropy: 0.0867 - val_loss: 0.3684 - val_acc: 0.8710 - val_binary_crossentropy: 0.3684\n"
     ]
    },
    {
     "name": "stdout",
     "output_type": "stream",
     "text": [
      "Epoch 15/20\n"
     ]
    },
    {
     "name": "stdout",
     "output_type": "stream",
     "text": [
      " - 4s - loss: 0.0797 - acc: 0.9790 - binary_crossentropy: 0.0797 - val_loss: 0.3834 - val_acc: 0.8702 - val_binary_crossentropy: 0.3834\n"
     ]
    },
    {
     "name": "stdout",
     "output_type": "stream",
     "text": [
      "Epoch 16/20\n"
     ]
    },
    {
     "name": "stdout",
     "output_type": "stream",
     "text": [
      " - 4s - loss: 0.0734 - acc: 0.9815 - binary_crossentropy: 0.0734 - val_loss: 0.4002 - val_acc: 0.8689 - val_binary_crossentropy: 0.4002\n"
     ]
    },
    {
     "name": "stdout",
     "output_type": "stream",
     "text": [
      "Epoch 17/20\n"
     ]
    },
    {
     "name": "stdout",
     "output_type": "stream",
     "text": [
      " - 4s - loss: 0.0677 - acc: 0.9836 - binary_crossentropy: 0.0677 - val_loss: 0.4192 - val_acc: 0.8653 - val_binary_crossentropy: 0.4192\n"
     ]
    },
    {
     "name": "stdout",
     "output_type": "stream",
     "text": [
      "Epoch 18/20\n"
     ]
    },
    {
     "name": "stdout",
     "output_type": "stream",
     "text": [
      " - 4s - loss: 0.0621 - acc: 0.9860 - binary_crossentropy: 0.0621 - val_loss: 0.4413 - val_acc: 0.8634 - val_binary_crossentropy: 0.4413\n"
     ]
    },
    {
     "name": "stdout",
     "output_type": "stream",
     "text": [
      "Epoch 19/20\n"
     ]
    },
    {
     "name": "stdout",
     "output_type": "stream",
     "text": [
      " - 4s - loss: 0.0570 - acc: 0.9882 - binary_crossentropy: 0.0570 - val_loss: 0.4554 - val_acc: 0.8629 - val_binary_crossentropy: 0.4554\n"
     ]
    },
    {
     "name": "stdout",
     "output_type": "stream",
     "text": [
      "Epoch 20/20\n"
     ]
    },
    {
     "name": "stdout",
     "output_type": "stream",
     "text": [
      " - 4s - loss: 0.0522 - acc: 0.9896 - binary_crossentropy: 0.0522 - val_loss: 0.4757 - val_acc: 0.8609 - val_binary_crossentropy: 0.4757\n"
     ]
    }
   ],
   "source": [
    "smaller_history = smaller_model.fit(train_data,\n",
    "                                    train_labels,\n",
    "                                    epochs=20,\n",
    "                                    batch_size=512,\n",
    "                                    validation_data=(test_data, test_labels),\n",
    "                                    verbose=2)"
   ]
  },
  {
   "cell_type": "code",
   "execution_count": 32,
   "metadata": {},
   "outputs": [
    {
     "name": "stdout",
     "output_type": "stream",
     "text": [
      "_________________________________________________________________\nLayer (type)                 Output Shape              Param #   \n=================================================================\ndense_9 (Dense)              (None, 512)               5120512   \n_________________________________________________________________\ndense_10 (Dense)             (None, 512)               262656    \n_________________________________________________________________\ndense_11 (Dense)             (None, 1)                 513       \n=================================================================\nTotal params: 5,383,681\nTrainable params: 5,383,681\nNon-trainable params: 0\n_________________________________________________________________\n"
     ]
    }
   ],
   "source": [
    "# create a bigger model\n",
    "bigger_model = keras.models.Sequential([\n",
    "    keras.layers.Dense(512, activation=tf.nn.relu, input_shape=(NUM_WORDS,)),\n",
    "    keras.layers.Dense(512, activation=tf.nn.relu),\n",
    "    keras.layers.Dense(1, activation=tf.nn.sigmoid)\n",
    "])\n",
    "\n",
    "bigger_model.compile(optimizer='adam',\n",
    "                     loss='binary_crossentropy',\n",
    "                     metrics=['accuracy','binary_crossentropy'])\n",
    "\n",
    "bigger_model.summary()"
   ]
  },
  {
   "cell_type": "code",
   "execution_count": 33,
   "metadata": {},
   "outputs": [
    {
     "name": "stdout",
     "output_type": "stream",
     "text": [
      "Train on 25000 samples, validate on 25000 samples\nEpoch 1/20\n"
     ]
    },
    {
     "name": "stdout",
     "output_type": "stream",
     "text": [
      " - 15s - loss: 0.3429 - acc: 0.8540 - binary_crossentropy: 0.3429 - val_loss: 0.2941 - val_acc: 0.8794 - val_binary_crossentropy: 0.2941\n"
     ]
    },
    {
     "name": "stdout",
     "output_type": "stream",
     "text": [
      "Epoch 2/20\n"
     ]
    },
    {
     "name": "stdout",
     "output_type": "stream",
     "text": [
      " - 13s - loss: 0.1356 - acc: 0.9506 - binary_crossentropy: 0.1356 - val_loss: 0.3642 - val_acc: 0.8613 - val_binary_crossentropy: 0.3642\n"
     ]
    },
    {
     "name": "stdout",
     "output_type": "stream",
     "text": [
      "Epoch 3/20\n"
     ]
    },
    {
     "name": "stdout",
     "output_type": "stream",
     "text": [
      " - 14s - loss: 0.0422 - acc: 0.9880 - binary_crossentropy: 0.0422 - val_loss: 0.4378 - val_acc: 0.8688 - val_binary_crossentropy: 0.4378\n"
     ]
    },
    {
     "name": "stdout",
     "output_type": "stream",
     "text": [
      "Epoch 4/20\n"
     ]
    },
    {
     "name": "stdout",
     "output_type": "stream",
     "text": [
      " - 14s - loss: 0.0071 - acc: 0.9989 - binary_crossentropy: 0.0071 - val_loss: 0.5996 - val_acc: 0.8704 - val_binary_crossentropy: 0.5996\n"
     ]
    },
    {
     "name": "stdout",
     "output_type": "stream",
     "text": [
      "Epoch 5/20\n"
     ]
    },
    {
     "name": "stdout",
     "output_type": "stream",
     "text": [
      " - 14s - loss: 8.1983e-04 - acc: 1.0000 - binary_crossentropy: 8.1983e-04 - val_loss: 0.6901 - val_acc: 0.8717 - val_binary_crossentropy: 0.6901\n"
     ]
    },
    {
     "name": "stdout",
     "output_type": "stream",
     "text": [
      "Epoch 6/20\n"
     ]
    },
    {
     "name": "stdout",
     "output_type": "stream",
     "text": [
      " - 13s - loss: 2.2401e-04 - acc: 1.0000 - binary_crossentropy: 2.2401e-04 - val_loss: 0.7299 - val_acc: 0.8720 - val_binary_crossentropy: 0.7299\n"
     ]
    },
    {
     "name": "stdout",
     "output_type": "stream",
     "text": [
      "Epoch 7/20\n"
     ]
    },
    {
     "name": "stdout",
     "output_type": "stream",
     "text": [
      " - 13s - loss: 1.2902e-04 - acc: 1.0000 - binary_crossentropy: 1.2902e-04 - val_loss: 0.7567 - val_acc: 0.8720 - val_binary_crossentropy: 0.7567\n"
     ]
    },
    {
     "name": "stdout",
     "output_type": "stream",
     "text": [
      "Epoch 8/20\n"
     ]
    },
    {
     "name": "stdout",
     "output_type": "stream",
     "text": [
      " - 14s - loss: 9.0669e-05 - acc: 1.0000 - binary_crossentropy: 9.0669e-05 - val_loss: 0.7779 - val_acc: 0.8720 - val_binary_crossentropy: 0.7779\n"
     ]
    },
    {
     "name": "stdout",
     "output_type": "stream",
     "text": [
      "Epoch 9/20\n"
     ]
    },
    {
     "name": "stdout",
     "output_type": "stream",
     "text": [
      " - 13s - loss: 6.7957e-05 - acc: 1.0000 - binary_crossentropy: 6.7957e-05 - val_loss: 0.7960 - val_acc: 0.8721 - val_binary_crossentropy: 0.7960\n"
     ]
    },
    {
     "name": "stdout",
     "output_type": "stream",
     "text": [
      "Epoch 10/20\n"
     ]
    },
    {
     "name": "stdout",
     "output_type": "stream",
     "text": [
      " - 12s - loss: 5.2784e-05 - acc: 1.0000 - binary_crossentropy: 5.2784e-05 - val_loss: 0.8113 - val_acc: 0.8721 - val_binary_crossentropy: 0.8113\n"
     ]
    },
    {
     "name": "stdout",
     "output_type": "stream",
     "text": [
      "Epoch 11/20\n"
     ]
    },
    {
     "name": "stdout",
     "output_type": "stream",
     "text": [
      " - 13s - loss: 4.1904e-05 - acc: 1.0000 - binary_crossentropy: 4.1904e-05 - val_loss: 0.8261 - val_acc: 0.8720 - val_binary_crossentropy: 0.8261\n"
     ]
    },
    {
     "name": "stdout",
     "output_type": "stream",
     "text": [
      "Epoch 12/20\n"
     ]
    },
    {
     "name": "stdout",
     "output_type": "stream",
     "text": [
      " - 13s - loss: 3.3806e-05 - acc: 1.0000 - binary_crossentropy: 3.3806e-05 - val_loss: 0.8393 - val_acc: 0.8721 - val_binary_crossentropy: 0.8393\n"
     ]
    },
    {
     "name": "stdout",
     "output_type": "stream",
     "text": [
      "Epoch 13/20\n"
     ]
    },
    {
     "name": "stdout",
     "output_type": "stream",
     "text": [
      " - 14s - loss: 2.7693e-05 - acc: 1.0000 - binary_crossentropy: 2.7693e-05 - val_loss: 0.8518 - val_acc: 0.8719 - val_binary_crossentropy: 0.8518\n"
     ]
    },
    {
     "name": "stdout",
     "output_type": "stream",
     "text": [
      "Epoch 14/20\n"
     ]
    },
    {
     "name": "stdout",
     "output_type": "stream",
     "text": [
      " - 14s - loss: 2.2953e-05 - acc: 1.0000 - binary_crossentropy: 2.2953e-05 - val_loss: 0.8637 - val_acc: 0.8720 - val_binary_crossentropy: 0.8637\n"
     ]
    },
    {
     "name": "stdout",
     "output_type": "stream",
     "text": [
      "Epoch 15/20\n"
     ]
    },
    {
     "name": "stdout",
     "output_type": "stream",
     "text": [
      " - 14s - loss: 1.9211e-05 - acc: 1.0000 - binary_crossentropy: 1.9211e-05 - val_loss: 0.8750 - val_acc: 0.8720 - val_binary_crossentropy: 0.8750\n"
     ]
    },
    {
     "name": "stdout",
     "output_type": "stream",
     "text": [
      "Epoch 16/20\n"
     ]
    },
    {
     "name": "stdout",
     "output_type": "stream",
     "text": [
      " - 14s - loss: 1.6238e-05 - acc: 1.0000 - binary_crossentropy: 1.6238e-05 - val_loss: 0.8845 - val_acc: 0.8720 - val_binary_crossentropy: 0.8845\n"
     ]
    },
    {
     "name": "stdout",
     "output_type": "stream",
     "text": [
      "Epoch 17/20\n"
     ]
    },
    {
     "name": "stdout",
     "output_type": "stream",
     "text": [
      " - 14s - loss: 1.3834e-05 - acc: 1.0000 - binary_crossentropy: 1.3834e-05 - val_loss: 0.8958 - val_acc: 0.8715 - val_binary_crossentropy: 0.8958\n"
     ]
    },
    {
     "name": "stdout",
     "output_type": "stream",
     "text": [
      "Epoch 18/20\n"
     ]
    },
    {
     "name": "stdout",
     "output_type": "stream",
     "text": [
      " - 13s - loss: 1.1915e-05 - acc: 1.0000 - binary_crossentropy: 1.1915e-05 - val_loss: 0.9043 - val_acc: 0.8717 - val_binary_crossentropy: 0.9043\n"
     ]
    },
    {
     "name": "stdout",
     "output_type": "stream",
     "text": [
      "Epoch 19/20\n"
     ]
    },
    {
     "name": "stdout",
     "output_type": "stream",
     "text": [
      " - 14s - loss: 1.0297e-05 - acc: 1.0000 - binary_crossentropy: 1.0297e-05 - val_loss: 0.9130 - val_acc: 0.8716 - val_binary_crossentropy: 0.9130\n"
     ]
    },
    {
     "name": "stdout",
     "output_type": "stream",
     "text": [
      "Epoch 20/20\n"
     ]
    },
    {
     "name": "stdout",
     "output_type": "stream",
     "text": [
      " - 14s - loss: 8.9857e-06 - acc: 1.0000 - binary_crossentropy: 8.9857e-06 - val_loss: 0.9218 - val_acc: 0.8715 - val_binary_crossentropy: 0.9218\n"
     ]
    }
   ],
   "source": [
    "bigger_history = bigger_model.fit(train_data, train_labels,\n",
    "                                  epochs=20,\n",
    "                                  batch_size=512,\n",
    "                                  validation_data=(test_data, test_labels),\n",
    "                                  verbose=2)"
   ]
  },
  {
   "cell_type": "code",
   "execution_count": 35,
   "metadata": {},
   "outputs": [
    {
     "data": {
      "image/png": "[encoded data removed]",
      "text/plain": [
       "<Figure size 1152x720 with 1 Axes>"
      ]
     },
     "metadata": {},
     "output_type": "display_data"
    }
   ],
   "source": [
    "def plot_history(histories, key='binary_crossentropy'):\n",
    "  plt.figure(figsize=(16,10))\n",
    "  # string.title() 变成大写\n",
    "  # history类属性\n",
    "  # plt.plot()返回值属性\n",
    "  for name, history in histories:\n",
    "    val = plt.plot(history.epoch, history.history['val_'+key],\n",
    "                   '--', label=name.title()+' Val')\n",
    "    plt.plot(history.epoch, history.history[key], color=val[0].get_color(),\n",
    "             label=name.title()+' Train')\n",
    "\n",
    "  plt.xlabel('Epochs')\n",
    "  plt.ylabel(key.replace('_',' ').title())\n",
    "  plt.legend()\n",
    "\n",
    "  plt.xlim([0, max(history.epoch)])\n",
    "\n",
    "\n",
    "plot_history([('baseline', baseline_history),\n",
    "              ('smaller', smaller_history),\n",
    "              ('bigger', bigger_history)])"
   ]
  },
  {
   "cell_type": "code",
   "execution_count": 36,
   "metadata": {},
   "outputs": [
    {
     "name": "stdout",
     "output_type": "stream",
     "text": [
      "Train on 25000 samples, validate on 25000 samples\nEpoch 1/20\n"
     ]
    },
    {
     "name": "stdout",
     "output_type": "stream",
     "text": [
      " - 7s - loss: 0.5609 - acc: 0.7795 - binary_crossentropy: 0.5222 - val_loss: 0.4148 - val_acc: 0.8722 - val_binary_crossentropy: 0.3733\n"
     ]
    },
    {
     "name": "stdout",
     "output_type": "stream",
     "text": [
      "Epoch 2/20\n"
     ]
    },
    {
     "name": "stdout",
     "output_type": "stream",
     "text": [
      " - 5s - loss: 0.3287 - acc: 0.9032 - binary_crossentropy: 0.2815 - val_loss: 0.3411 - val_acc: 0.8867 - val_binary_crossentropy: 0.2898\n"
     ]
    },
    {
     "name": "stdout",
     "output_type": "stream",
     "text": [
      "Epoch 3/20\n"
     ]
    },
    {
     "name": "stdout",
     "output_type": "stream",
     "text": [
      " - 4s - loss: 0.2686 - acc: 0.9232 - binary_crossentropy: 0.2146 - val_loss: 0.3386 - val_acc: 0.8876 - val_binary_crossentropy: 0.2828\n"
     ]
    },
    {
     "name": "stdout",
     "output_type": "stream",
     "text": [
      "Epoch 4/20\n"
     ]
    },
    {
     "name": "stdout",
     "output_type": "stream",
     "text": [
      " - 4s - loss: 0.2412 - acc: 0.9369 - binary_crossentropy: 0.1839 - val_loss: 0.3478 - val_acc: 0.8841 - val_binary_crossentropy: 0.2897\n"
     ]
    },
    {
     "name": "stdout",
     "output_type": "stream",
     "text": [
      "Epoch 5/20\n"
     ]
    },
    {
     "name": "stdout",
     "output_type": "stream",
     "text": [
      " - 4s - loss: 0.2269 - acc: 0.9425 - binary_crossentropy: 0.1673 - val_loss: 0.3599 - val_acc: 0.8800 - val_binary_crossentropy: 0.2995\n"
     ]
    },
    {
     "name": "stdout",
     "output_type": "stream",
     "text": [
      "Epoch 6/20\n"
     ]
    },
    {
     "name": "stdout",
     "output_type": "stream",
     "text": [
      " - 4s - loss: 0.2134 - acc: 0.9484 - binary_crossentropy: 0.1525 - val_loss: 0.3723 - val_acc: 0.8776 - val_binary_crossentropy: 0.3111\n"
     ]
    },
    {
     "name": "stdout",
     "output_type": "stream",
     "text": [
      "Epoch 7/20\n"
     ]
    },
    {
     "name": "stdout",
     "output_type": "stream",
     "text": [
      " - 4s - loss: 0.2062 - acc: 0.9512 - binary_crossentropy: 0.1440 - val_loss: 0.3864 - val_acc: 0.8733 - val_binary_crossentropy: 0.3236\n"
     ]
    },
    {
     "name": "stdout",
     "output_type": "stream",
     "text": [
      "Epoch 8/20\n"
     ]
    },
    {
     "name": "stdout",
     "output_type": "stream",
     "text": [
      " - 4s - loss: 0.1972 - acc: 0.9548 - binary_crossentropy: 0.1336 - val_loss: 0.3955 - val_acc: 0.8729 - val_binary_crossentropy: 0.3318\n"
     ]
    },
    {
     "name": "stdout",
     "output_type": "stream",
     "text": [
      "Epoch 9/20\n"
     ]
    },
    {
     "name": "stdout",
     "output_type": "stream",
     "text": [
      " - 4s - loss: 0.1910 - acc: 0.9565 - binary_crossentropy: 0.1269 - val_loss: 0.4119 - val_acc: 0.8700 - val_binary_crossentropy: 0.3473\n"
     ]
    },
    {
     "name": "stdout",
     "output_type": "stream",
     "text": [
      "Epoch 10/20\n"
     ]
    },
    {
     "name": "stdout",
     "output_type": "stream",
     "text": [
      " - 4s - loss: 0.1893 - acc: 0.9580 - binary_crossentropy: 0.1240 - val_loss: 0.4298 - val_acc: 0.8668 - val_binary_crossentropy: 0.3641\n"
     ]
    },
    {
     "name": "stdout",
     "output_type": "stream",
     "text": [
      "Epoch 11/20\n"
     ]
    },
    {
     "name": "stdout",
     "output_type": "stream",
     "text": [
      " - 4s - loss: 0.1831 - acc: 0.9602 - binary_crossentropy: 0.1169 - val_loss: 0.4354 - val_acc: 0.8666 - val_binary_crossentropy: 0.3688\n"
     ]
    },
    {
     "name": "stdout",
     "output_type": "stream",
     "text": [
      "Epoch 12/20\n"
     ]
    },
    {
     "name": "stdout",
     "output_type": "stream",
     "text": [
      " - 4s - loss: 0.1791 - acc: 0.9622 - binary_crossentropy: 0.1125 - val_loss: 0.4553 - val_acc: 0.8625 - val_binary_crossentropy: 0.3884\n"
     ]
    },
    {
     "name": "stdout",
     "output_type": "stream",
     "text": [
      "Epoch 13/20\n"
     ]
    },
    {
     "name": "stdout",
     "output_type": "stream",
     "text": [
      " - 4s - loss: 0.1787 - acc: 0.9620 - binary_crossentropy: 0.1109 - val_loss: 0.4598 - val_acc: 0.8645 - val_binary_crossentropy: 0.3917\n"
     ]
    },
    {
     "name": "stdout",
     "output_type": "stream",
     "text": [
      "Epoch 14/20\n"
     ]
    },
    {
     "name": "stdout",
     "output_type": "stream",
     "text": [
      " - 4s - loss: 0.1692 - acc: 0.9667 - binary_crossentropy: 0.1012 - val_loss: 0.4649 - val_acc: 0.8608 - val_binary_crossentropy: 0.3973\n"
     ]
    },
    {
     "name": "stdout",
     "output_type": "stream",
     "text": [
      "Epoch 15/20\n"
     ]
    },
    {
     "name": "stdout",
     "output_type": "stream",
     "text": [
      " - 4s - loss: 0.1632 - acc: 0.9690 - binary_crossentropy: 0.0957 - val_loss: 0.4805 - val_acc: 0.8626 - val_binary_crossentropy: 0.4129\n"
     ]
    },
    {
     "name": "stdout",
     "output_type": "stream",
     "text": [
      "Epoch 16/20\n"
     ]
    },
    {
     "name": "stdout",
     "output_type": "stream",
     "text": [
      " - 4s - loss: 0.1606 - acc: 0.9698 - binary_crossentropy: 0.0927 - val_loss: 0.4909 - val_acc: 0.8597 - val_binary_crossentropy: 0.4228\n"
     ]
    },
    {
     "name": "stdout",
     "output_type": "stream",
     "text": [
      "Epoch 17/20\n"
     ]
    },
    {
     "name": "stdout",
     "output_type": "stream",
     "text": [
      " - 4s - loss: 0.1588 - acc: 0.9699 - binary_crossentropy: 0.0906 - val_loss: 0.4983 - val_acc: 0.8590 - val_binary_crossentropy: 0.4297\n"
     ]
    },
    {
     "name": "stdout",
     "output_type": "stream",
     "text": [
      "Epoch 18/20\n"
     ]
    },
    {
     "name": "stdout",
     "output_type": "stream",
     "text": [
      " - 4s - loss: 0.1570 - acc: 0.9704 - binary_crossentropy: 0.0881 - val_loss: 0.5148 - val_acc: 0.8586 - val_binary_crossentropy: 0.4454\n"
     ]
    },
    {
     "name": "stdout",
     "output_type": "stream",
     "text": [
      "Epoch 19/20\n"
     ]
    },
    {
     "name": "stdout",
     "output_type": "stream",
     "text": [
      " - 4s - loss: 0.1545 - acc: 0.9713 - binary_crossentropy: 0.0850 - val_loss: 0.5234 - val_acc: 0.8594 - val_binary_crossentropy: 0.4536\n"
     ]
    },
    {
     "name": "stdout",
     "output_type": "stream",
     "text": [
      "Epoch 20/20\n"
     ]
    },
    {
     "name": "stdout",
     "output_type": "stream",
     "text": [
      " - 4s - loss: 0.1527 - acc: 0.9728 - binary_crossentropy: 0.0824 - val_loss: 0.5340 - val_acc: 0.8567 - val_binary_crossentropy: 0.4633\n"
     ]
    }
   ],
   "source": [
    "# # strategies\n",
    "l2_model = keras.models.Sequential([\n",
    "    keras.layers.Dense(16, kernel_regularizer=keras.regularizers.l2(0.001),\n",
    "                       activation=tf.nn.relu, input_shape=(NUM_WORDS,)),\n",
    "    keras.layers.Dense(16, kernel_regularizer=keras.regularizers.l2(0.001),\n",
    "                       activation=tf.nn.relu),\n",
    "    keras.layers.Dense(1, activation=tf.nn.sigmoid)\n",
    "])\n",
    "\n",
    "l2_model.compile(optimizer='adam',\n",
    "                 loss='binary_crossentropy',\n",
    "                 metrics=['accuracy', 'binary_crossentropy'])\n",
    "\n",
    "l2_model_history = l2_model.fit(train_data, train_labels,\n",
    "                                epochs=20,\n",
    "                                batch_size=512,\n",
    "                                validation_data=(test_data, test_labels),\n",
    "                                verbose=2)"
   ]
  },
  {
   "cell_type": "code",
   "execution_count": 37,
   "metadata": {},
   "outputs": [
    {
     "name": "stdout",
     "output_type": "stream",
     "text": [
      "Train on 25000 samples, validate on 25000 samples\nEpoch 1/20\n"
     ]
    },
    {
     "name": "stdout",
     "output_type": "stream",
     "text": [
      " - 6s - loss: 0.6477 - acc: 0.6127 - binary_crossentropy: 0.6477 - val_loss: 0.5271 - val_acc: 0.8230 - val_binary_crossentropy: 0.5271\n"
     ]
    },
    {
     "name": "stdout",
     "output_type": "stream",
     "text": [
      "Epoch 2/20\n"
     ]
    },
    {
     "name": "stdout",
     "output_type": "stream",
     "text": [
      " - 4s - loss: 0.4798 - acc: 0.7933 - binary_crossentropy: 0.4798 - val_loss: 0.3633 - val_acc: 0.8760 - val_binary_crossentropy: 0.3633\n"
     ]
    },
    {
     "name": "stdout",
     "output_type": "stream",
     "text": [
      "Epoch 3/20\n"
     ]
    },
    {
     "name": "stdout",
     "output_type": "stream",
     "text": [
      " - 4s - loss: 0.3661 - acc: 0.8651 - binary_crossentropy: 0.3661 - val_loss: 0.3030 - val_acc: 0.8831 - val_binary_crossentropy: 0.3030\n"
     ]
    },
    {
     "name": "stdout",
     "output_type": "stream",
     "text": [
      "Epoch 4/20\n"
     ]
    },
    {
     "name": "stdout",
     "output_type": "stream",
     "text": [
      " - 4s - loss: 0.3010 - acc: 0.8996 - binary_crossentropy: 0.3010 - val_loss: 0.2843 - val_acc: 0.8876 - val_binary_crossentropy: 0.2843\n"
     ]
    },
    {
     "name": "stdout",
     "output_type": "stream",
     "text": [
      "Epoch 5/20\n"
     ]
    },
    {
     "name": "stdout",
     "output_type": "stream",
     "text": [
      " - 4s - loss: 0.2635 - acc: 0.9171 - binary_crossentropy: 0.2635 - val_loss: 0.2838 - val_acc: 0.8875 - val_binary_crossentropy: 0.2838\n"
     ]
    },
    {
     "name": "stdout",
     "output_type": "stream",
     "text": [
      "Epoch 6/20\n"
     ]
    },
    {
     "name": "stdout",
     "output_type": "stream",
     "text": [
      " - 4s - loss: 0.2269 - acc: 0.9303 - binary_crossentropy: 0.2269 - val_loss: 0.2918 - val_acc: 0.8849 - val_binary_crossentropy: 0.2918\n"
     ]
    },
    {
     "name": "stdout",
     "output_type": "stream",
     "text": [
      "Epoch 7/20\n"
     ]
    },
    {
     "name": "stdout",
     "output_type": "stream",
     "text": [
      " - 4s - loss: 0.2040 - acc: 0.9384 - binary_crossentropy: 0.2040 - val_loss: 0.3097 - val_acc: 0.8810 - val_binary_crossentropy: 0.3097\n"
     ]
    },
    {
     "name": "stdout",
     "output_type": "stream",
     "text": [
      "Epoch 8/20\n"
     ]
    },
    {
     "name": "stdout",
     "output_type": "stream",
     "text": [
      " - 4s - loss: 0.1879 - acc: 0.9424 - binary_crossentropy: 0.1879 - val_loss: 0.3179 - val_acc: 0.8826 - val_binary_crossentropy: 0.3179\n"
     ]
    },
    {
     "name": "stdout",
     "output_type": "stream",
     "text": [
      "Epoch 9/20\n"
     ]
    },
    {
     "name": "stdout",
     "output_type": "stream",
     "text": [
      " - 4s - loss: 0.1683 - acc: 0.9504 - binary_crossentropy: 0.1683 - val_loss: 0.3344 - val_acc: 0.8811 - val_binary_crossentropy: 0.3344\n"
     ]
    },
    {
     "name": "stdout",
     "output_type": "stream",
     "text": [
      "Epoch 10/20\n"
     ]
    },
    {
     "name": "stdout",
     "output_type": "stream",
     "text": [
      " - 4s - loss: 0.1523 - acc: 0.9554 - binary_crossentropy: 0.1523 - val_loss: 0.3605 - val_acc: 0.8804 - val_binary_crossentropy: 0.3605\n"
     ]
    },
    {
     "name": "stdout",
     "output_type": "stream",
     "text": [
      "Epoch 11/20\n"
     ]
    },
    {
     "name": "stdout",
     "output_type": "stream",
     "text": [
      " - 4s - loss: 0.1394 - acc: 0.9596 - binary_crossentropy: 0.1394 - val_loss: 0.3939 - val_acc: 0.8794 - val_binary_crossentropy: 0.3939\n"
     ]
    },
    {
     "name": "stdout",
     "output_type": "stream",
     "text": [
      "Epoch 12/20\n"
     ]
    },
    {
     "name": "stdout",
     "output_type": "stream",
     "text": [
      " - 4s - loss: 0.1303 - acc: 0.9612 - binary_crossentropy: 0.1303 - val_loss: 0.4038 - val_acc: 0.8775 - val_binary_crossentropy: 0.4038\n"
     ]
    },
    {
     "name": "stdout",
     "output_type": "stream",
     "text": [
      "Epoch 13/20\n"
     ]
    },
    {
     "name": "stdout",
     "output_type": "stream",
     "text": [
      " - 4s - loss: 0.1194 - acc: 0.9654 - binary_crossentropy: 0.1194 - val_loss: 0.4314 - val_acc: 0.8768 - val_binary_crossentropy: 0.4314\n"
     ]
    },
    {
     "name": "stdout",
     "output_type": "stream",
     "text": [
      "Epoch 14/20\n"
     ]
    },
    {
     "name": "stdout",
     "output_type": "stream",
     "text": [
      " - 4s - loss: 0.1138 - acc: 0.9653 - binary_crossentropy: 0.1138 - val_loss: 0.4636 - val_acc: 0.8787 - val_binary_crossentropy: 0.4636\n"
     ]
    },
    {
     "name": "stdout",
     "output_type": "stream",
     "text": [
      "Epoch 15/20\n"
     ]
    },
    {
     "name": "stdout",
     "output_type": "stream",
     "text": [
      " - 4s - loss: 0.0986 - acc: 0.9709 - binary_crossentropy: 0.0986 - val_loss: 0.4610 - val_acc: 0.8758 - val_binary_crossentropy: 0.4610\n"
     ]
    },
    {
     "name": "stdout",
     "output_type": "stream",
     "text": [
      "Epoch 16/20\n"
     ]
    },
    {
     "name": "stdout",
     "output_type": "stream",
     "text": [
      " - 4s - loss: 0.0966 - acc: 0.9713 - binary_crossentropy: 0.0966 - val_loss: 0.4949 - val_acc: 0.8768 - val_binary_crossentropy: 0.4949\n"
     ]
    },
    {
     "name": "stdout",
     "output_type": "stream",
     "text": [
      "Epoch 17/20\n"
     ]
    },
    {
     "name": "stdout",
     "output_type": "stream",
     "text": [
      " - 4s - loss: 0.0939 - acc: 0.9735 - binary_crossentropy: 0.0939 - val_loss: 0.4881 - val_acc: 0.8754 - val_binary_crossentropy: 0.4881\n"
     ]
    },
    {
     "name": "stdout",
     "output_type": "stream",
     "text": [
      "Epoch 18/20\n"
     ]
    },
    {
     "name": "stdout",
     "output_type": "stream",
     "text": [
      " - 5s - loss: 0.0893 - acc: 0.9731 - binary_crossentropy: 0.0893 - val_loss: 0.5200 - val_acc: 0.8744 - val_binary_crossentropy: 0.5200\n"
     ]
    },
    {
     "name": "stdout",
     "output_type": "stream",
     "text": [
      "Epoch 19/20\n"
     ]
    },
    {
     "name": "stdout",
     "output_type": "stream",
     "text": [
      " - 4s - loss: 0.0826 - acc: 0.9758 - binary_crossentropy: 0.0826 - val_loss: 0.5210 - val_acc: 0.8751 - val_binary_crossentropy: 0.5210\n"
     ]
    },
    {
     "name": "stdout",
     "output_type": "stream",
     "text": [
      "Epoch 20/20\n"
     ]
    },
    {
     "name": "stdout",
     "output_type": "stream",
     "text": [
      " - 4s - loss: 0.0802 - acc: 0.9762 - binary_crossentropy: 0.0802 - val_loss: 0.5409 - val_acc: 0.8746 - val_binary_crossentropy: 0.5409\n"
     ]
    }
   ],
   "source": [
    "# add dropout\n",
    "dpt_model = keras.models.Sequential([\n",
    "    keras.layers.Dense(16, activation=tf.nn.relu, input_shape=(NUM_WORDS,)),\n",
    "    keras.layers.Dropout(0.5),\n",
    "    keras.layers.Dense(16, activation=tf.nn.relu),\n",
    "    keras.layers.Dropout(0.5),\n",
    "    keras.layers.Dense(1, activation=tf.nn.sigmoid)\n",
    "])\n",
    "\n",
    "dpt_model.compile(optimizer='adam',\n",
    "                  loss='binary_crossentropy',\n",
    "                  metrics=['accuracy','binary_crossentropy'])\n",
    "\n",
    "dpt_model_history = dpt_model.fit(train_data, train_labels,\n",
    "                                  epochs=20,\n",
    "                                  batch_size=512,\n",
    "                                  validation_data=(test_data, test_labels),\n",
    "                                  verbose=2)"
   ]
  },
  {
   "cell_type": "code",
   "execution_count": 38,
   "metadata": {},
   "outputs": [
    {
     "data": {
      "image/png": "[encoded data removed]",
      "text/plain": [
       "<Figure size 1152x720 with 1 Axes>"
      ]
     },
     "metadata": {},
     "output_type": "display_data"
    }
   ],
   "source": [
    "plot_history([('baseline', baseline_history),\n",
    "              ('dropout', dpt_model_history)])"
   ]
  },
  {
   "cell_type": "code",
   "execution_count": 39,
   "metadata": {},
   "outputs": [
    {
     "data": {
      "image/png": "[encoded data removed]",
      "text/plain": [
       "<Figure size 1152x720 with 1 Axes>"
      ]
     },
     "metadata": {},
     "output_type": "display_data"
    }
   ],
   "source": [
    "plot_history([('dropout', dpt_model_history), ('l2', l2_model_history)])"
   ]
  },
  {
   "cell_type": "code",
   "execution_count": 42,
   "metadata": {},
   "outputs": [
    {
     "name": "stdout",
     "output_type": "stream",
     "text": [
      "['event_extraction', 'sentiment_analysis', 'text-abstract', 'text-analysis']\n"
     ]
    }
   ],
   "source": [
    "# glob\n",
    "# 按照匹配符号查找路径下的文件， *，?,[]\n",
    "import glob\n",
    "path = glob.glob(r'*')\n",
    "print(path)"
   ]
  },
  {
   "cell_type": "code",
   "execution_count": 43,
   "metadata": {},
   "outputs": [
    {
     "name": "stdout",
     "output_type": "stream",
     "text": [
      "<generator object _iglob at 0x000002DEAEB0CF10>\n"
     ]
    }
   ],
   "source": [
    "pathi = glob.iglob(r'*')\n",
    "# iglob 生成的是迭代器\n",
    "print(pathi)"
   ]
  },
  {
   "cell_type": "code",
   "execution_count": null,
   "metadata": {},
   "outputs": [],
   "source": []
  }
 ],
 "metadata": {
  "kernelspec": {
   "display_name": "Python 2",
   "language": "python",
   "name": "python2"
  },
  "language_info": {
   "codemirror_mode": {
    "name": "ipython",
    "version": 2
   },
   "file_extension": ".py",
   "mimetype": "text/x-python",
   "name": "python",
   "nbconvert_exporter": "python",
   "pygments_lexer": "ipython2",
   "version": "2.7.6"
  }
 },
 "nbformat": 4,
 "nbformat_minor": 0
}
